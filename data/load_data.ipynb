{
 "cells": [
  {
   "cell_type": "code",
   "execution_count": 64,
   "metadata": {},
   "outputs": [],
   "source": [
    "import pandas as pd"
   ]
  },
  {
   "cell_type": "code",
   "execution_count": 65,
   "metadata": {},
   "outputs": [
    {
     "name": "stdout",
     "output_type": "stream",
     "text": [
      "   RK  TIERS          PLAYER NAME TEAM POS# POS BYE WEEK        SOS SEASON  \\\n",
      "0   1      1  Christian McCaffrey   SF  RB1  RB        9  2 out of 5 stars   \n",
      "1   2      1          CeeDee Lamb  DAL  WR1  WR        7  3 out of 5 stars   \n",
      "2   3      1          Tyreek Hill  MIA  WR2  WR        6  2 out of 5 stars   \n",
      "3   4      1        Ja'Marr Chase  CIN  WR3  WR       12  2 out of 5 stars   \n",
      "4   5      1    Amon-Ra St. Brown  DET  WR4  WR        5  4 out of 5 stars   \n",
      "\n",
      "  ECR VS. ADP AVG. POINTS      % GAMES   \n",
      "0           0          2.5  62% (10/16)  \n",
      "1           1          3.8   50% (8/16)  \n",
      "2          -1          1.7   60% (9/15)  \n",
      "3           2         -0.8   33% (5/15)  \n",
      "4           3            2   60% (9/15)  \n"
     ]
    }
   ],
   "source": [
    "# Load the CSV file\n",
    "df = pd.read_excel('FantasyPros_2024_Draft.xlsx')\n",
    "\n",
    "# Display the first few rows to verify\n",
    "print(df.head())"
   ]
  },
  {
   "cell_type": "code",
   "execution_count": 66,
   "metadata": {},
   "outputs": [
    {
     "data": {
      "text/html": [
       "<div>\n",
       "<style scoped>\n",
       "    .dataframe tbody tr th:only-of-type {\n",
       "        vertical-align: middle;\n",
       "    }\n",
       "\n",
       "    .dataframe tbody tr th {\n",
       "        vertical-align: top;\n",
       "    }\n",
       "\n",
       "    .dataframe thead th {\n",
       "        text-align: right;\n",
       "    }\n",
       "</style>\n",
       "<table border=\"1\" class=\"dataframe\">\n",
       "  <thead>\n",
       "    <tr style=\"text-align: right;\">\n",
       "      <th></th>\n",
       "      <th>RK</th>\n",
       "      <th>TIERS</th>\n",
       "      <th>PLAYER NAME</th>\n",
       "      <th>TEAM</th>\n",
       "      <th>POS#</th>\n",
       "      <th>POS</th>\n",
       "      <th>BYE WEEK</th>\n",
       "      <th>SOS SEASON</th>\n",
       "      <th>ECR VS. ADP</th>\n",
       "      <th>AVG. POINTS</th>\n",
       "      <th>% GAMES</th>\n",
       "    </tr>\n",
       "  </thead>\n",
       "  <tbody>\n",
       "    <tr>\n",
       "      <th>0</th>\n",
       "      <td>1</td>\n",
       "      <td>1</td>\n",
       "      <td>Christian McCaffrey</td>\n",
       "      <td>SF</td>\n",
       "      <td>RB1</td>\n",
       "      <td>RB</td>\n",
       "      <td>9</td>\n",
       "      <td>2</td>\n",
       "      <td>0</td>\n",
       "      <td>2.5</td>\n",
       "      <td>62% (10/16)</td>\n",
       "    </tr>\n",
       "    <tr>\n",
       "      <th>1</th>\n",
       "      <td>2</td>\n",
       "      <td>1</td>\n",
       "      <td>CeeDee Lamb</td>\n",
       "      <td>DAL</td>\n",
       "      <td>WR1</td>\n",
       "      <td>WR</td>\n",
       "      <td>7</td>\n",
       "      <td>3</td>\n",
       "      <td>1</td>\n",
       "      <td>3.8</td>\n",
       "      <td>50% (8/16)</td>\n",
       "    </tr>\n",
       "    <tr>\n",
       "      <th>2</th>\n",
       "      <td>3</td>\n",
       "      <td>1</td>\n",
       "      <td>Tyreek Hill</td>\n",
       "      <td>MIA</td>\n",
       "      <td>WR2</td>\n",
       "      <td>WR</td>\n",
       "      <td>6</td>\n",
       "      <td>2</td>\n",
       "      <td>-1</td>\n",
       "      <td>1.7</td>\n",
       "      <td>60% (9/15)</td>\n",
       "    </tr>\n",
       "    <tr>\n",
       "      <th>3</th>\n",
       "      <td>4</td>\n",
       "      <td>1</td>\n",
       "      <td>Ja'Marr Chase</td>\n",
       "      <td>CIN</td>\n",
       "      <td>WR3</td>\n",
       "      <td>WR</td>\n",
       "      <td>12</td>\n",
       "      <td>2</td>\n",
       "      <td>2</td>\n",
       "      <td>-0.8</td>\n",
       "      <td>33% (5/15)</td>\n",
       "    </tr>\n",
       "    <tr>\n",
       "      <th>4</th>\n",
       "      <td>5</td>\n",
       "      <td>1</td>\n",
       "      <td>Amon-Ra St. Brown</td>\n",
       "      <td>DET</td>\n",
       "      <td>WR4</td>\n",
       "      <td>WR</td>\n",
       "      <td>5</td>\n",
       "      <td>4</td>\n",
       "      <td>3</td>\n",
       "      <td>2</td>\n",
       "      <td>60% (9/15)</td>\n",
       "    </tr>\n",
       "  </tbody>\n",
       "</table>\n",
       "</div>"
      ],
      "text/plain": [
       "   RK  TIERS          PLAYER NAME TEAM POS# POS BYE WEEK  SOS SEASON  \\\n",
       "0   1      1  Christian McCaffrey   SF  RB1  RB        9           2   \n",
       "1   2      1          CeeDee Lamb  DAL  WR1  WR        7           3   \n",
       "2   3      1          Tyreek Hill  MIA  WR2  WR        6           2   \n",
       "3   4      1        Ja'Marr Chase  CIN  WR3  WR       12           2   \n",
       "4   5      1    Amon-Ra St. Brown  DET  WR4  WR        5           4   \n",
       "\n",
       "  ECR VS. ADP AVG. POINTS      % GAMES   \n",
       "0           0          2.5  62% (10/16)  \n",
       "1           1          3.8   50% (8/16)  \n",
       "2          -1          1.7   60% (9/15)  \n",
       "3           2         -0.8   33% (5/15)  \n",
       "4           3            2   60% (9/15)  "
      ]
     },
     "execution_count": 66,
     "metadata": {},
     "output_type": "execute_result"
    }
   ],
   "source": [
    "df['SOS SEASON'] = df['SOS SEASON'].str.extract(r'(\\d+)')\n",
    "df['SOS SEASON'] = df['SOS SEASON'].fillna(-1).astype(int)\n",
    "df.head()"
   ]
  },
  {
   "cell_type": "code",
   "execution_count": 67,
   "metadata": {},
   "outputs": [
    {
     "data": {
      "text/html": [
       "<div>\n",
       "<style scoped>\n",
       "    .dataframe tbody tr th:only-of-type {\n",
       "        vertical-align: middle;\n",
       "    }\n",
       "\n",
       "    .dataframe tbody tr th {\n",
       "        vertical-align: top;\n",
       "    }\n",
       "\n",
       "    .dataframe thead th {\n",
       "        text-align: right;\n",
       "    }\n",
       "</style>\n",
       "<table border=\"1\" class=\"dataframe\">\n",
       "  <thead>\n",
       "    <tr style=\"text-align: right;\">\n",
       "      <th></th>\n",
       "      <th>RK</th>\n",
       "      <th>TIERS</th>\n",
       "      <th>PLAYER NAME</th>\n",
       "      <th>TEAM</th>\n",
       "      <th>POS#</th>\n",
       "      <th>POS</th>\n",
       "      <th>BYE WEEK</th>\n",
       "      <th>SOS SEASON</th>\n",
       "      <th>ECR VS. ADP</th>\n",
       "      <th>AVG. POINTS</th>\n",
       "      <th>% GAMES</th>\n",
       "    </tr>\n",
       "  </thead>\n",
       "  <tbody>\n",
       "    <tr>\n",
       "      <th>325</th>\n",
       "      <td>326</td>\n",
       "      <td>13</td>\n",
       "      <td>Kareem Hunt</td>\n",
       "      <td>FA</td>\n",
       "      <td>RB97</td>\n",
       "      <td>RB</td>\n",
       "      <td>-</td>\n",
       "      <td>-1</td>\n",
       "      <td>-14</td>\n",
       "      <td>0.8</td>\n",
       "      <td>57% (8/14)</td>\n",
       "    </tr>\n",
       "  </tbody>\n",
       "</table>\n",
       "</div>"
      ],
      "text/plain": [
       "      RK  TIERS  PLAYER NAME TEAM  POS# POS BYE WEEK  SOS SEASON ECR VS. ADP  \\\n",
       "325  326     13  Kareem Hunt   FA  RB97  RB        -          -1         -14   \n",
       "\n",
       "    AVG. POINTS     % GAMES   \n",
       "325          0.8  57% (8/14)  "
      ]
     },
     "execution_count": 67,
     "metadata": {},
     "output_type": "execute_result"
    }
   ],
   "source": [
    "# example of a NAN value which is now -1\n",
    "player_name = 'Kareem Hunt'\n",
    "player_row = df[df['PLAYER NAME'].str.lower() == player_name.lower()]\n",
    "player_row"
   ]
  },
  {
   "cell_type": "code",
   "execution_count": 68,
   "metadata": {},
   "outputs": [
    {
     "name": "stderr",
     "output_type": "stream",
     "text": [
      "/var/folders/41/wtl9z2gx2ync8gwdnvs4vldm0000gn/T/ipykernel_99085/1452427858.py:3: FutureWarning: Downcasting behavior in `replace` is deprecated and will be removed in a future version. To retain the old behavior, explicitly call `result.infer_objects(copy=False)`. To opt-in to the future behavior, set `pd.set_option('future.no_silent_downcasting', True)`\n",
      "  df['BYE WEEK'] = df['BYE WEEK'].replace('-', -1)\n",
      "/var/folders/41/wtl9z2gx2ync8gwdnvs4vldm0000gn/T/ipykernel_99085/1452427858.py:4: FutureWarning: Downcasting behavior in `replace` is deprecated and will be removed in a future version. To retain the old behavior, explicitly call `result.infer_objects(copy=False)`. To opt-in to the future behavior, set `pd.set_option('future.no_silent_downcasting', True)`\n",
      "  df['AVG. POINTS '] = df['AVG. POINTS '].replace('-', 0)\n"
     ]
    },
    {
     "data": {
      "text/html": [
       "<div>\n",
       "<style scoped>\n",
       "    .dataframe tbody tr th:only-of-type {\n",
       "        vertical-align: middle;\n",
       "    }\n",
       "\n",
       "    .dataframe tbody tr th {\n",
       "        vertical-align: top;\n",
       "    }\n",
       "\n",
       "    .dataframe thead th {\n",
       "        text-align: right;\n",
       "    }\n",
       "</style>\n",
       "<table border=\"1\" class=\"dataframe\">\n",
       "  <thead>\n",
       "    <tr style=\"text-align: right;\">\n",
       "      <th></th>\n",
       "      <th>RK</th>\n",
       "      <th>TIERS</th>\n",
       "      <th>PLAYER NAME</th>\n",
       "      <th>TEAM</th>\n",
       "      <th>POS#</th>\n",
       "      <th>POS</th>\n",
       "      <th>BYE WEEK</th>\n",
       "      <th>SOS SEASON</th>\n",
       "      <th>ECR VS. ADP</th>\n",
       "      <th>AVG. POINTS</th>\n",
       "      <th>% GAMES</th>\n",
       "    </tr>\n",
       "  </thead>\n",
       "  <tbody>\n",
       "    <tr>\n",
       "      <th>38</th>\n",
       "      <td>39</td>\n",
       "      <td>5</td>\n",
       "      <td>Malik Nabers</td>\n",
       "      <td>NYG</td>\n",
       "      <td>WR23</td>\n",
       "      <td>WR</td>\n",
       "      <td>11</td>\n",
       "      <td>3</td>\n",
       "      <td>12</td>\n",
       "      <td>0.0</td>\n",
       "      <td>-</td>\n",
       "    </tr>\n",
       "  </tbody>\n",
       "</table>\n",
       "</div>"
      ],
      "text/plain": [
       "    RK  TIERS   PLAYER NAME TEAM  POS# POS  BYE WEEK  SOS SEASON ECR VS. ADP  \\\n",
       "38  39      5  Malik Nabers  NYG  WR23  WR        11           3          12   \n",
       "\n",
       "    AVG. POINTS  % GAMES   \n",
       "38           0.0        -  "
      ]
     },
     "execution_count": 68,
     "metadata": {},
     "output_type": "execute_result"
    }
   ],
   "source": [
    "df['RK'] = df['RK'].astype(int)\n",
    "df['TIERS'] = df['TIERS'].astype(int)\n",
    "df['BYE WEEK'] = df['BYE WEEK'].replace('-', -1)\n",
    "df['AVG. POINTS '] = df['AVG. POINTS '].replace('-', 0)\n",
    "\n",
    "player_name = 'Malik Nabers'\n",
    "player_row = df[df['PLAYER NAME'].str.lower() == player_name.lower()]\n",
    "player_row\n"
   ]
  },
  {
   "cell_type": "code",
   "execution_count": 69,
   "metadata": {},
   "outputs": [],
   "source": [
    "df.to_csv('cleaned_fantasy_football_players.csv', index=False)"
   ]
  }
 ],
 "metadata": {
  "kernelspec": {
   "display_name": ".venv",
   "language": "python",
   "name": "python3"
  },
  "language_info": {
   "codemirror_mode": {
    "name": "ipython",
    "version": 3
   },
   "file_extension": ".py",
   "mimetype": "text/x-python",
   "name": "python",
   "nbconvert_exporter": "python",
   "pygments_lexer": "ipython3",
   "version": "3.12.3"
  }
 },
 "nbformat": 4,
 "nbformat_minor": 2
}
